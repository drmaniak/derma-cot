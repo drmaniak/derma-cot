{
 "cells": [
  {
   "cell_type": "code",
   "execution_count": 13,
   "id": "ed7397fd-6252-4c0c-a347-4a95fb8932fe",
   "metadata": {},
   "outputs": [],
   "source": [
    "from pathlib import Path\n",
    "import glob\n",
    "import os"
   ]
  },
  {
   "cell_type": "code",
   "execution_count": 12,
   "id": "2d409cda-4b06-49c8-9447-1af86b3fac81",
   "metadata": {},
   "outputs": [],
   "source": [
    "from datasets import load_dataset, concatenate_datasets"
   ]
  },
  {
   "cell_type": "code",
   "execution_count": 2,
   "id": "816ce339-ba18-49f1-bad3-a2be1fd8e728",
   "metadata": {},
   "outputs": [
    {
     "name": "stderr",
     "output_type": "stream",
     "text": [
      "/root/Software/MLX/derma-cot/.venv/lib/python3.12/site-packages/tqdm/auto.py:21: TqdmWarning: IProgress not found. Please update jupyter and ipywidgets. See https://ipywidgets.readthedocs.io/en/stable/user_install.html\n",
      "  from .autonotebook import tqdm as notebook_tqdm\n"
     ]
    }
   ],
   "source": [
    "from huggingface_hub import snapshot_download"
   ]
  },
  {
   "cell_type": "code",
   "execution_count": 9,
   "id": "d206a107-8d88-4310-8f69-8b4854efccf8",
   "metadata": {},
   "outputs": [],
   "source": [
    "image_dir = Path(\"../data/finemed_sft/\")\n",
    "assert image_dir.exists()"
   ]
  },
  {
   "cell_type": "code",
   "execution_count": 10,
   "id": "99562b9e-30bd-4178-a077-9c66c1ad841e",
   "metadata": {},
   "outputs": [
    {
     "name": "stderr",
     "output_type": "stream",
     "text": [
      "Fetching 39 files: 100%|██████████████████████████████████████████████████████████████████████████████████████████████████████████████████████████| 39/39 [00:43<00:00,  1.10s/it]\n"
     ]
    }
   ],
   "source": [
    "image_dir = snapshot_download(\n",
    "    repo_id=\"hongzhouyu/FineMed-SFT\", \n",
    "    repo_type=\"dataset\", \n",
    "    allow_patterns=\"*\",\n",
    "    local_dir=image_dir,\n",
    "    local_dir_use_symlinks=False\n",
    ")"
   ]
  },
  {
   "cell_type": "code",
   "execution_count": 27,
   "id": "fb7c3237-c07d-449d-9d37-321f44f56224",
   "metadata": {},
   "outputs": [
    {
     "name": "stderr",
     "output_type": "stream",
     "text": [
      "Generating train split: 304858 examples [00:02, 149531.23 examples/s]\n",
      "Generating train split: 1728 examples [00:00, 82956.66 examples/s]\n",
      "Generating train split: 11477 examples [00:00, 89686.43 examples/s]\n",
      "Generating train split: 3390 examples [00:00, 105014.81 examples/s]\n",
      "Generating train split: 78665 examples [00:00, 132340.53 examples/s]\n",
      "Generating train split: 2068 examples [00:00, 81572.24 examples/s]\n",
      "Generating train split: 10152 examples [00:00, 97858.93 examples/s]\n",
      "Generating train split: 7102 examples [00:00, 127593.37 examples/s]\n",
      "Generating train split: 4766 examples [00:00, 122483.57 examples/s]\n",
      "Generating train split: 4662 examples [00:00, 114893.53 examples/s]\n",
      "Generating train split: 7559 examples [00:00, 132774.72 examples/s]\n",
      "Generating train split: 8667 examples [00:00, 127457.97 examples/s]\n",
      "Generating train split: 21227 examples [00:00, 140632.09 examples/s]\n",
      "Generating train split: 4923 examples [00:00, 132492.50 examples/s]\n",
      "Generating train split: 2128 examples [00:00, 96624.33 examples/s]\n",
      "Generating train split: 8519 examples [00:00, 108175.30 examples/s]\n",
      "Generating train split: 736 examples [00:00, 123921.47 examples/s]\n",
      "Generating train split: 23541 examples [00:00, 136941.88 examples/s]\n",
      "Generating train split: 349 examples [00:00, 100089.72 examples/s]\n",
      "Generating train split: 1208 examples [00:00, 104684.28 examples/s]\n",
      "Generating train split: 444 examples [00:00, 125693.24 examples/s]\n",
      "Generating train split: 1372 examples [00:00, 115179.24 examples/s]\n",
      "Generating train split: 431 examples [00:00, 86940.08 examples/s]\n",
      "Generating train split: 2589 examples [00:00, 82693.43 examples/s]\n",
      "Generating train split: 91 examples [00:00, 36995.41 examples/s]\n",
      "Generating train split: 831 examples [00:00, 54877.14 examples/s]\n",
      "Generating train split: 4818 examples [00:00, 94648.68 examples/s]\n",
      "Generating train split: 422 examples [00:00, 63527.25 examples/s]\n",
      "Generating train split: 2869 examples [00:00, 77119.76 examples/s]\n",
      "Generating train split: 7806 examples [00:00, 133602.40 examples/s]\n",
      "Generating train split: 514 examples [00:00, 131407.55 examples/s]\n",
      "Generating train split: 158629 examples [00:01, 157954.90 examples/s]\n",
      "Generating train split: 10171 examples [00:00, 117185.33 examples/s]\n",
      "Generating train split: 298 examples [00:00, 57676.28 examples/s]\n",
      "Generating train split: 14253 examples [00:00, 115989.43 examples/s]\n",
      "Generating train split: 1729 examples [00:00, 143597.32 examples/s]\n"
     ]
    }
   ],
   "source": [
    "base_path = \"../data/finemed_sft\"\n",
    "excluded_files = [\"SFTo1.jsonl\"]\n",
    "\n",
    "all_files = glob.glob(os.path.join(base_path, \"**/*.jsonl\"), recursive=True)\n",
    "filtered_files = [f for f in all_files if not any(excl in f for excl in excluded_files)]\n",
    "\n",
    "stage1_datasets = []\n",
    "for file in filtered_files:\n",
    "    ds = load_dataset(\"json\", data_files=file, split=\"train\")\n",
    "    stage1_datasets.append(ds)"
   ]
  },
  {
   "cell_type": "code",
   "execution_count": 51,
   "id": "81913e73-9bc2-477c-a360-96cc48441a0c",
   "metadata": {},
   "outputs": [
    {
     "data": {
      "text/plain": [
       "Dataset({\n",
       "    features: ['text', 'instruction', 'complexity', 'quality', 'language', 'response', 'instruction_type'],\n",
       "    num_rows: 714992\n",
       "})"
      ]
     },
     "execution_count": 51,
     "metadata": {},
     "output_type": "execute_result"
    }
   ],
   "source": [
    "full_dataset"
   ]
  },
  {
   "cell_type": "code",
   "execution_count": 35,
   "id": "88660046-afdc-41f1-a51d-98f862cd9af9",
   "metadata": {},
   "outputs": [],
   "source": [
    "full_dataset = concatenate_datasets(dsets=stage1_datasets).shuffle(seed=42069)\n",
    "stage1_dataset = full_dataset.select(range(200000))"
   ]
  },
  {
   "cell_type": "code",
   "execution_count": 52,
   "id": "15e75f07-43f4-4a56-b2f6-73b3a188d9c1",
   "metadata": {},
   "outputs": [],
   "source": [
    "# stage1_dataset.train_test_split(test_size=0.1, seed=42069).push_to_hub(\"drmaniak/DermaCOT-SFT1\")"
   ]
  },
  {
   "cell_type": "code",
   "execution_count": 54,
   "id": "af815925-7ab9-4ae0-b130-d05dadd6fdd6",
   "metadata": {},
   "outputs": [
    {
     "data": {
      "text/plain": [
       "Dataset({\n",
       "    features: ['text', 'instruction', 'complexity', 'quality', 'language', 'response', 'instruction_type'],\n",
       "    num_rows: 10171\n",
       "})"
      ]
     },
     "execution_count": 54,
     "metadata": {},
     "output_type": "execute_result"
    }
   ],
   "source": [
    "derm = Path(\"../data/finemed_sft/OtherDepartments/DermatologyandVenereology.jsonl\")\n",
    "\n",
    "derm = load_dataset(\"json\", data_files=\"../data/finemed_sft/OtherDepartments/DermatologyandVenereology.jsonl\", split=\"train\")\n",
    "derm"
   ]
  },
  {
   "cell_type": "code",
   "execution_count": 55,
   "id": "8fc363dd-49b8-4024-a231-61e8b69f655e",
   "metadata": {},
   "outputs": [
    {
     "name": "stderr",
     "output_type": "stream",
     "text": [
      "Generating train split: 100%|████████████████████████████████████████████████████████████████████████████████████████████████████████| 4000/4000 [00:01<00:00, 3868.22 examples/s]\n"
     ]
    }
   ],
   "source": [
    "scap = load_dataset(\"drmaniak/SkinCap-Visual\")"
   ]
  },
  {
   "cell_type": "code",
   "execution_count": 56,
   "id": "9846b853-42c5-40cb-8e3a-660c5b9250d2",
   "metadata": {},
   "outputs": [
    {
     "data": {
      "text/plain": [
       "DatasetDict({\n",
       "    train: Dataset({\n",
       "        features: ['image', 'skincap_file_path', 'disease', 'caption', 'remark', 'source', 'skin_tone', 'not_considered', 'filename', 'label'],\n",
       "        num_rows: 4000\n",
       "    })\n",
       "})"
      ]
     },
     "execution_count": 56,
     "metadata": {},
     "output_type": "execute_result"
    }
   ],
   "source": [
    "scap"
   ]
  },
  {
   "cell_type": "code",
   "execution_count": 57,
   "id": "af366df2-8cf1-4e8c-a185-8f72d39384c3",
   "metadata": {},
   "outputs": [
    {
     "data": {
      "text/plain": [
       "{'text': 'CBD Skin Care, Topicals And Lotions\\nWith more research underway surrounding the endocannabinoid system and cannabinoids such as CBD and THC, many new methods for infusing products with cannabinoids are being developed. One of the most intriguing is in using them within skin care products.\\nCannabis topicals come in the form of lotion, salves, balms, and oils, all of which have been infused with cannabinoids. They absorb into the skin directly upon application. Topicals have only grown in popularity over the years. In fact, THC and CBD has even been utilized in general cosmetic products and even personal lubricants.\\nCBD Skin Care Lotion in Lexington\\nApplying cannabinoids topically will allow them to absorb into the body quite quickly. The relief is also more focused, generally only affecting the specific area where the product was used. On the other hand, smoking or ingesting marijuana affects the entire body, and it can take up to two hours for any effects to be felt.\\nCBD Skin Care Topicals are only mildly invasive, and they make a strong entryway for those that are curious to dip their toes into the world of medical cannabis. The prospect of smoking or ingestion is quite scary to the uninitiated. External options make a fantastic compromise.\\nIt’s also worth noting that Hemp Genix CBD Skin Care products in Lexington are not psychoactive. The endocannabinoid system is activated, and any mind altering properties are blocked from entering the bloodstream. It’s worth noting that topical dosages must be quite large. Since the skin of humans absorbs cannabinoids at a low rate, a liberal application is suggested as a workaround.\\nThat said, CBD and CBN can work their way into the skin much easier than THC. They’re also more likely to engage the receptors of the CB2 cannabinoids. As such, they have become quite popular for cannabis topical manufacturers. CBD Skin Care Lotions contents have much more hemp than your run of the mill variety of marijuana. Hemp has numerous benefits, included significantly lower toxicity.\\nCBD oil lotion is also quite popular since there are dual purposes at play. They’ll smooth out and even soften the skin of the applied area. Of course, they also allow highly specific use of CBD. It’s not uncommon for people to become very adamant that CBD oil Skin Care in Lexington become a regular part of their lives after trying it for the first time. The FDA isn’t keen on any particular health claims being made of course, but it’s hard to deny the satisfaction rate of those that have been using CBD Skin Care thus far.\\nTHC is quite well known, having been included in the conversation about marijuana for quite some time now. CBD has become more prominent as of late thanks to plenty of research and trials however. It has been shown to help prevent pain, anxiety, and even nausea. It also happens to be legal when extracted from industrial hemp. There is still much work to be done towards achieving widespread understanding and use of topical products such as CBD Skin Care in Lexington , but it’s clear that we’re many steps closer than ever before.\\nCBD Oil Skin Care In Lexington North Carolina\\nHave you noticed how many botanical skincare products there are on the market today? The number is staggering, actually. Everything from hand soap to shampoo seems to have some link to various plants that are grown on the good earth.\\nHave you ever asked yourself why these ingredients are so popular? What is it about these ingredients that make marketing companies fall over themselves as they try to outsell each other by touting the \"natural\" ingredients of their products?\\nBotanical refers to plants. When you see this word on a skincare product, you automatically assume that the ingredients contained in that product come from plants. Consumers should be cautious and read all labels before purchasing any of these products since many of them actually contain only a very small percentage of these natural plant ingredients.\\nSome companies will use German chamomile in their formulas since it is beneficial for aging skin. Unfortunately, many companies will add a small percentage of that ingredient and because of this, the formula will not have any significant cosmetic value. Still yet, other companies will load up their formulas with synthetic colors, chemicals, and fragrances. Products which contain synthetic preservatives and fragrances that contain small percentages of botanical ingredients will not only cause negative skin reactions in some people, but also have little or no therapeutic cosmetic value. In addition, a good percentage of their products will contain water while the herbal ingredients will only comprise about 1 to 3% of the total formula.\\nLemon balm is an herbal plant that is beneficial for those who have oily skin. You will find this plant added to toners since it has astringent properties (it tightens pores).\\nRed clover is a popular herb that has been shown to bolster the immune system and has been prescribed by naturopathic physicians to treat cancer. This herb has also been used in skin formulas to treat dry skin.\\nBotanical skin care products can be used to treat a variety of different skin conditions and be utilized by those who want to maintain their healthy skin complexion. These products have been shown to be nontoxic and contain vitamins, minerals, and enzymes which help nourish the skin. They are multipurpose since the herbal plants they contain are beneficial for all skin types.\\nSome herbal plants such as rosa mosqueta and sea buckthorn contain volatile oils which are especially beneficial in treating wrinkles and aging skin. Even though these products are beneficial for the skin, it is best to consult with your dermatologist before you begin a plant-based regime to make sure that you will not encounter any adverse effects or allergic reactions.\\nA daily healthy lifestyle with the addition of a nutritious diet and exercise, not smoking, moderate alcohol consumption and the regular application of plant-based skin care products can help improve and rejuvenate your complexion.',\n",
       " 'instruction': 'What are the benefits and potential drawbacks of using botanical ingredients in skincare products, and how can consumers ensure they are purchasing products with a significant amount of natural plant ingredients?',\n",
       " 'complexity': 5,\n",
       " 'quality': 8,\n",
       " 'language': 'en',\n",
       " 'response': \"The use of botanical ingredients in skincare products offers several benefits, including their nontoxic nature, high nutritional value, and ability to address various skin conditions. Botanicals like German chamomile can benefit aging skin, lemon balm can help with oily skin, and red clover can bolster the immune system and treat dry skin. Additionally, herbs like rosa mosqueta and sea buckthorn contain volatile oils that are particularly effective in treating wrinkles and aging skin. However, there are potential drawbacks to consider. Many products marketed as 'botanical' or 'natural' often contain only a small percentage of actual plant ingredients, which may not be sufficient to provide significant cosmetic value. These products may also include synthetic colors, chemicals, and fragrances, which can cause negative skin reactions and diminish the therapeutic benefits of the botanicals. To ensure you are purchasing products with a significant amount of natural plant ingredients, consumers should read labels carefully, look for products with a higher concentration of herbal ingredients, and opt for brands that are transparent about their ingredient sourcing and manufacturing processes.\",\n",
       " 'instruction_type': 'common'}"
      ]
     },
     "execution_count": 57,
     "metadata": {},
     "output_type": "execute_result"
    }
   ],
   "source": [
    "derm[0]"
   ]
  },
  {
   "cell_type": "code",
   "execution_count": 58,
   "id": "cb91154a-5fff-45b2-81c9-d4f999513e86",
   "metadata": {},
   "outputs": [
    {
     "data": {
      "text/plain": [
       "{'text': Value(dtype='string', id=None),\n",
       " 'instruction': Value(dtype='string', id=None),\n",
       " 'complexity': Value(dtype='int64', id=None),\n",
       " 'quality': Value(dtype='int64', id=None),\n",
       " 'language': Value(dtype='string', id=None),\n",
       " 'response': Value(dtype='string', id=None),\n",
       " 'instruction_type': Value(dtype='string', id=None)}"
      ]
     },
     "execution_count": 58,
     "metadata": {},
     "output_type": "execute_result"
    }
   ],
   "source": [
    "derm.features"
   ]
  },
  {
   "cell_type": "code",
   "execution_count": 65,
   "id": "260e7c8f-52a6-4cf1-b886-4bc872bdaa47",
   "metadata": {},
   "outputs": [],
   "source": [
    "def process_skincap(example):\n",
    "    return {\n",
    "        \"text\": f\"Image: {example['skincap_file_path']}\\nCaption: {example['caption']}\",\n",
    "        \"instruction\": \"I've been experiencing some skin issues, can you have a look at this photo of my skin and tell me if anything's wrong?\",\n",
    "        \"image\": example[\"image\"],\n",
    "        \"complexity\": 8,\n",
    "        \"quality\": 8,\n",
    "        \"langauge\": \"en\",\n",
    "        \"response\": f\"{example['label']}\",\n",
    "        \"instruction_type\": \"common\",\n",
    "        \"is_image\": True\n",
    "    }\n",
    "\n",
    "def process_derm(example):\n",
    "    return {\n",
    "        **example,\n",
    "        \"image\": None,\n",
    "        \"is_image\": True,\n",
    "    }\n",
    "    "
   ]
  },
  {
   "cell_type": "code",
   "execution_count": 69,
   "id": "2d27db7c-cecb-4e92-9647-8d30ce42e476",
   "metadata": {},
   "outputs": [
    {
     "name": "stderr",
     "output_type": "stream",
     "text": [
      "Map: 100%|█████████████████████████████████████████████████████████████████████████████████████████████████████████████████████████████| 4000/4000 [07:34<00:00,  8.81 examples/s]\n"
     ]
    }
   ],
   "source": [
    "derm_dataset = derm.map(process_derm)\n",
    "scap_dataset = scap.map(process_skincap)"
   ]
  },
  {
   "cell_type": "code",
   "execution_count": 74,
   "id": "8b015e9e-ca2e-4bc3-8485-d40193cadebc",
   "metadata": {},
   "outputs": [],
   "source": [
    "stage2_dataset = concatenate_datasets([derm_dataset, scap_dataset[\"train\"]])"
   ]
  },
  {
   "cell_type": "code",
   "execution_count": 76,
   "id": "63fcb696-e1cf-483a-b8bd-5e593628b78a",
   "metadata": {},
   "outputs": [
    {
     "name": "stderr",
     "output_type": "stream",
     "text": [
      "Uploading the dataset shards:   0%|                                                                                                                         | 0/3 [00:00<?, ?it/s]\n",
      "Map: 100%|██████████████████████████████████████████████████████████████████████████████████████████████████████████████████████████| 4724/4724 [00:00<00:00, 90318.09 examples/s]\n",
      "\n",
      "Creating parquet from Arrow format: 100%|████████████████████████████████████████████████████████████████████████████████████████████████████████| 48/48 [00:00<00:00, 733.24ba/s]\n",
      "Uploading the dataset shards:  33%|█████████████████████████████████████▋                                                                           | 1/3 [00:02<00:04,  2.02s/it]\n",
      "Map: 100%|██████████████████████████████████████████████████████████████████████████████████████████████████████████████████████████| 4724/4724 [00:00<00:00, 73027.76 examples/s]\n",
      "\n",
      "Creating parquet from Arrow format: 100%|████████████████████████████████████████████████████████████████████████████████████████████████████████| 48/48 [00:00<00:00, 739.72ba/s]\n",
      "Uploading the dataset shards:  67%|███████████████████████████████████████████████████████████████████████████▎                                     | 2/3 [00:04<00:02,  2.13s/it]\n",
      "\u001b[A:   0%|                                                                                                                                        | 0/4723 [00:00<?, ? examples/s]\n",
      "\u001b[A:  21%|██████████████████████████                                                                                                 | 1000/4723 [00:00<00:00, 6236.38 examples/s]\n",
      "\u001b[A:  38%|██████████████████████████████████████████████▉                                                                            | 1800/4723 [00:00<00:01, 2191.90 examples/s]\n",
      "\u001b[A:  47%|█████████████████████████████████████████████████████████▎                                                                 | 2200/4723 [00:01<00:01, 1583.62 examples/s]\n",
      "\u001b[A:  55%|███████████████████████████████████████████████████████████████████▋                                                       | 2600/4723 [00:01<00:01, 1773.09 examples/s]\n",
      "\u001b[A:  64%|██████████████████████████████████████████████████████████████████████████████▏                                            | 3000/4723 [00:01<00:00, 1926.09 examples/s]\n",
      "\u001b[A:  70%|█████████████████████████████████████████████████████████████████████████████████████▉                                     | 3300/4723 [00:01<00:00, 1993.88 examples/s]\n",
      "\u001b[A:  76%|█████████████████████████████████████████████████████████████████████████████████████████████▊                             | 3600/4723 [00:02<00:00, 1181.37 examples/s]\n",
      "\u001b[A:  80%|██████████████████████████████████████████████████████████████████████████████████████████████████▉                        | 3800/4723 [00:02<00:00, 1218.51 examples/s]\n",
      "Map: 100%|███████████████████████████████████████████████████████████████████████████████████████████████████████████████████████████| 4723/4723 [00:02<00:00, 1863.41 examples/s]\n",
      "\n",
      "\u001b[Aating parquet from Arrow format:   0%|                                                                                                                  | 0/48 [00:00<?, ?ba/s]\n",
      "\u001b[Aating parquet from Arrow format:  21%|█████████████████████▉                                                                                   | 10/48 [00:00<00:00, 74.41ba/s]\n",
      "\u001b[Aating parquet from Arrow format:  38%|███████████████████████████████████████▍                                                                 | 18/48 [00:00<00:01, 20.35ba/s]\n",
      "\u001b[Aating parquet from Arrow format:  46%|████████████████████████████████████████████████▏                                                        | 22/48 [00:01<00:01, 17.20ba/s]\n",
      "\u001b[Aating parquet from Arrow format:  52%|██████████████████████████████████████████████████████▋                                                  | 25/48 [00:01<00:01, 17.17ba/s]\n",
      "\u001b[Aating parquet from Arrow format:  58%|█████████████████████████████████████████████████████████████▎                                           | 28/48 [00:01<00:01, 16.51ba/s]\n",
      "\u001b[Aating parquet from Arrow format:  62%|█████████████████████████████████████████████████████████████████▋                                       | 30/48 [00:01<00:01, 15.46ba/s]\n",
      "\u001b[Aating parquet from Arrow format:  67%|██████████████████████████████████████████████████████████████████████                                   | 32/48 [00:01<00:01, 14.46ba/s]\n",
      "\u001b[Aating parquet from Arrow format:  71%|██████████████████████████████████████████████████████████████████████████▍                              | 34/48 [00:01<00:00, 15.43ba/s]\n",
      "\u001b[Aating parquet from Arrow format:  75%|██████████████████████████████████████████████████████████████████████████████▊                          | 36/48 [00:02<00:00, 13.79ba/s]\n",
      "\u001b[Aating parquet from Arrow format:  79%|███████████████████████████████████████████████████████████████████████████████████▏                     | 38/48 [00:02<00:00, 12.03ba/s]\n",
      "\u001b[Aating parquet from Arrow format:  83%|███████████████████████████████████████████████████████████████████████████████████████▌                 | 40/48 [00:02<00:00, 13.00ba/s]\n",
      "\u001b[Aating parquet from Arrow format:  88%|███████████████████████████████████████████████████████████████████████████████████████████▉             | 42/48 [00:02<00:00, 14.07ba/s]\n",
      "Creating parquet from Arrow format: 100%|█████████████████████████████████████████████████████████████████████████████████████████████████████████| 48/48 [00:02<00:00, 17.93ba/s]\n",
      "Uploading the dataset shards: 100%|█████████████████████████████████████████████████████████████████████████████████████████████████████████████████| 3/3 [00:56<00:00, 18.72s/it]\n"
     ]
    },
    {
     "data": {
      "text/plain": [
       "CommitInfo(commit_url='https://huggingface.co/datasets/drmaniak/DermaCOT-SFT2/commit/7b56d0ffbda52029b3375b852d9c91a8306b9dda', commit_message='Upload dataset', commit_description='', oid='7b56d0ffbda52029b3375b852d9c91a8306b9dda', pr_url=None, repo_url=RepoUrl('https://huggingface.co/datasets/drmaniak/DermaCOT-SFT2', endpoint='https://huggingface.co', repo_type='dataset', repo_id='drmaniak/DermaCOT-SFT2'), pr_revision=None, pr_num=None)"
      ]
     },
     "execution_count": 76,
     "metadata": {},
     "output_type": "execute_result"
    }
   ],
   "source": [
    "stage2_dataset.push_to_hub(\"drmaniak/DermaCOT-SFT2\")"
   ]
  },
  {
   "cell_type": "code",
   "execution_count": 73,
   "id": "ade1aafc-9df1-4530-9bdb-f96ec185dee5",
   "metadata": {},
   "outputs": [
    {
     "data": {
      "text/plain": [
       "{'image': <PIL.PngImagePlugin.PngImageFile image mode=RGBA size=798x618>,\n",
       " 'skincap_file_path': '1.png',\n",
       " 'disease': 'melanoma-in-situ',\n",
       " 'caption': 'Irregular brown patches are present on the sole of the foot, which may indicate a melanocytic nevus or melanoma. It is recommended to undergo pathological or dermatoscopy examination for a more definitive diagnosis.',\n",
       " 'remark': 'nan',\n",
       " 'source': 'ddi',\n",
       " 'skin_tone': '56.0',\n",
       " 'not_considered': 0,\n",
       " 'filename': '/home/fullldiesel/Software/learning/MLX/Coda/derma-cot/data/SkinCAP_images/1.png',\n",
       " 'label': \"The image depicts the sole of a human foot, which exhibits several irregular brown patches. These patches vary in size and shape, with some appearing more defined and others more diffuse. The skin surrounding these patches shows signs of dryness and slight scaling, which may indicate chronic irritation or friction. The overall texture of the foot's sole appears rough and uneven, with visible lines and creases typical of the plantar surface.\\n\\nGiven the clinical presentation of irregular brown patches on the sole of the foot, the primary concern is the differential diagnosis between a melanocytic nevus and melanoma. Melanocytic nevi, commonly known as moles, are benign growths of melanocytes, the cells that produce pigment in the skin. They can vary in color, size, and shape, and are often present from childhood. However, changes in the size, shape, color, or sensation of a mole can be indicative of melanoma, a malignant skin cancer that arises from melanocytes.\\n\\nMelanoma-in-situ, as mentioned in the diagnosis, refers to the earliest stage of melanoma, where the cancerous cells are confined to the top layer of the skin (epidermis) and have not invaded deeper layers. This stage is highly treatable with a good prognosis if detected early. The irregular brown patches observed in the image could potentially be indicative of melanoma-in-situ, especially if they have changed in appearance over time or if the patient has noticed any new growths.\\n\\nThe recommendation for a pathological or dermatoscopy examination is crucial for a definitive diagnosis. Dermatoscopy, also known as epiluminescence microscopy, is a non-invasive technique that allows for a detailed examination of skin lesions under magnification. It can help differentiate between benign and malignant lesions by analyzing specific patterns and structures not visible to the naked eye. Pathological examination involves taking a biopsy of the lesion and examining it under a microscope to determine the presence of cancerous cells.\\n\\nIn summary, the image shows irregular brown patches on the sole of the foot, which could be indicative of a melanocytic nevus or melanoma. Given the clinical presentation and the recommendation for further examination, it is essential to undergo dermatoscopy or pathological examination to rule out melanoma-in-situ and ensure early detection and treatment if necessary.\",\n",
       " 'text': 'Image: 1.png\\nCaption: Irregular brown patches are present on the sole of the foot, which may indicate a melanocytic nevus or melanoma. It is recommended to undergo pathological or dermatoscopy examination for a more definitive diagnosis.',\n",
       " 'instruction': \"I've been experiencing some skin issues, can you have a look at this photo of my skin and tell me if anything's wrong?\",\n",
       " 'complexity': 8,\n",
       " 'quality': 8,\n",
       " 'langauge': 'en',\n",
       " 'response': \"The image depicts the sole of a human foot, which exhibits several irregular brown patches. These patches vary in size and shape, with some appearing more defined and others more diffuse. The skin surrounding these patches shows signs of dryness and slight scaling, which may indicate chronic irritation or friction. The overall texture of the foot's sole appears rough and uneven, with visible lines and creases typical of the plantar surface.\\n\\nGiven the clinical presentation of irregular brown patches on the sole of the foot, the primary concern is the differential diagnosis between a melanocytic nevus and melanoma. Melanocytic nevi, commonly known as moles, are benign growths of melanocytes, the cells that produce pigment in the skin. They can vary in color, size, and shape, and are often present from childhood. However, changes in the size, shape, color, or sensation of a mole can be indicative of melanoma, a malignant skin cancer that arises from melanocytes.\\n\\nMelanoma-in-situ, as mentioned in the diagnosis, refers to the earliest stage of melanoma, where the cancerous cells are confined to the top layer of the skin (epidermis) and have not invaded deeper layers. This stage is highly treatable with a good prognosis if detected early. The irregular brown patches observed in the image could potentially be indicative of melanoma-in-situ, especially if they have changed in appearance over time or if the patient has noticed any new growths.\\n\\nThe recommendation for a pathological or dermatoscopy examination is crucial for a definitive diagnosis. Dermatoscopy, also known as epiluminescence microscopy, is a non-invasive technique that allows for a detailed examination of skin lesions under magnification. It can help differentiate between benign and malignant lesions by analyzing specific patterns and structures not visible to the naked eye. Pathological examination involves taking a biopsy of the lesion and examining it under a microscope to determine the presence of cancerous cells.\\n\\nIn summary, the image shows irregular brown patches on the sole of the foot, which could be indicative of a melanocytic nevus or melanoma. Given the clinical presentation and the recommendation for further examination, it is essential to undergo dermatoscopy or pathological examination to rule out melanoma-in-situ and ensure early detection and treatment if necessary.\",\n",
       " 'instruction_type': 'common',\n",
       " 'is_image': True}"
      ]
     },
     "execution_count": 73,
     "metadata": {},
     "output_type": "execute_result"
    }
   ],
   "source": [
    "scap_dataset[\"train\"][0]"
   ]
  },
  {
   "cell_type": "code",
   "execution_count": 60,
   "id": "5706138f-44ab-4d90-b57e-d698de5c76b7",
   "metadata": {},
   "outputs": [
    {
     "data": {
      "text/plain": [
       "{'image': <PIL.Image.Image image mode=RGBA size=798x618>,\n",
       " 'skincap_file_path': '1.png',\n",
       " 'disease': 'melanoma-in-situ',\n",
       " 'caption': 'Irregular brown patches are present on the sole of the foot, which may indicate a melanocytic nevus or melanoma. It is recommended to undergo pathological or dermatoscopy examination for a more definitive diagnosis.',\n",
       " 'remark': 'nan',\n",
       " 'source': 'ddi',\n",
       " 'skin_tone': '56.0',\n",
       " 'not_considered': 0,\n",
       " 'filename': '/home/fullldiesel/Software/learning/MLX/Coda/derma-cot/data/SkinCAP_images/1.png',\n",
       " 'label': \"The image depicts the sole of a human foot, which exhibits several irregular brown patches. These patches vary in size and shape, with some appearing more defined and others more diffuse. The skin surrounding these patches shows signs of dryness and slight scaling, which may indicate chronic irritation or friction. The overall texture of the foot's sole appears rough and uneven, with visible lines and creases typical of the plantar surface.\\n\\nGiven the clinical presentation of irregular brown patches on the sole of the foot, the primary concern is the differential diagnosis between a melanocytic nevus and melanoma. Melanocytic nevi, commonly known as moles, are benign growths of melanocytes, the cells that produce pigment in the skin. They can vary in color, size, and shape, and are often present from childhood. However, changes in the size, shape, color, or sensation of a mole can be indicative of melanoma, a malignant skin cancer that arises from melanocytes.\\n\\nMelanoma-in-situ, as mentioned in the diagnosis, refers to the earliest stage of melanoma, where the cancerous cells are confined to the top layer of the skin (epidermis) and have not invaded deeper layers. This stage is highly treatable with a good prognosis if detected early. The irregular brown patches observed in the image could potentially be indicative of melanoma-in-situ, especially if they have changed in appearance over time or if the patient has noticed any new growths.\\n\\nThe recommendation for a pathological or dermatoscopy examination is crucial for a definitive diagnosis. Dermatoscopy, also known as epiluminescence microscopy, is a non-invasive technique that allows for a detailed examination of skin lesions under magnification. It can help differentiate between benign and malignant lesions by analyzing specific patterns and structures not visible to the naked eye. Pathological examination involves taking a biopsy of the lesion and examining it under a microscope to determine the presence of cancerous cells.\\n\\nIn summary, the image shows irregular brown patches on the sole of the foot, which could be indicative of a melanocytic nevus or melanoma. Given the clinical presentation and the recommendation for further examination, it is essential to undergo dermatoscopy or pathological examination to rule out melanoma-in-situ and ensure early detection and treatment if necessary.\"}"
      ]
     },
     "execution_count": 60,
     "metadata": {},
     "output_type": "execute_result"
    }
   ],
   "source": [
    "scap[\"train\"][0]"
   ]
  }
 ],
 "metadata": {
  "kernelspec": {
   "display_name": "Python 3 (ipykernel)",
   "language": "python",
   "name": "python3"
  },
  "language_info": {
   "codemirror_mode": {
    "name": "ipython",
    "version": 3
   },
   "file_extension": ".py",
   "mimetype": "text/x-python",
   "name": "python",
   "nbconvert_exporter": "python",
   "pygments_lexer": "ipython3",
   "version": "3.12.8"
  }
 },
 "nbformat": 4,
 "nbformat_minor": 5
}
